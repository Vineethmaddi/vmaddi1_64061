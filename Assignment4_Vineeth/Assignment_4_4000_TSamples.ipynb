{
  "cells": [
    {
      "cell_type": "markdown",
      "metadata": {
        "id": "W6LBlBctzGmd"
      },
      "source": [
        "This is a companion notebook for the book [Deep Learning with Python, Second Edition](https://www.manning.com/books/deep-learning-with-python-second-edition?a_aid=keras&a_bid=76564dff). For readability, it only contains runnable code blocks and section titles, and omits everything else in the book: text paragraphs, figures, and pseudocode.\n",
        "\n",
        "**If you want to be able to follow what's going on, I recommend reading the notebook side by side with your copy of the book.**\n",
        "\n",
        "This notebook was generated for TensorFlow 2.6."
      ]
    },
    {
      "cell_type": "markdown",
      "metadata": {
        "id": "54WiKpXbzGmf"
      },
      "source": [
        "### Processing words as a sequence: The sequence model approach"
      ]
    },
    {
      "cell_type": "markdown",
      "metadata": {
        "id": "0Traj_ewzGmg"
      },
      "source": [
        "#### A first practical example"
      ]
    },
    {
      "cell_type": "markdown",
      "metadata": {
        "id": "rmpIJo6SzGmg"
      },
      "source": [
        "**Downloading the data**"
      ]
    },
    {
      "cell_type": "code",
      "execution_count": 53,
      "metadata": {
        "id": "aFVsVWKYzGmg"
      },
      "outputs": [],
      "source": [
        "# !curl -O https://ai.stanford.edu/~amaas/data/sentiment/aclImdb_v1.tar.gz\n",
        "# !tar -xf aclImdb_v1.tar.gz\n",
        "# !rm -r aclImdb/train/unsup"
      ]
    },
    {
      "cell_type": "markdown",
      "metadata": {
        "id": "GUIVQxlwzGmh"
      },
      "source": [
        "**Preparing the data**\n",
        "\n",
        "\n",
        "\n",
        "\n",
        "\n",
        "\n",
        "\n",
        "\n",
        "\n",
        "\n",
        "\n",
        "\n",
        "\n",
        "\n",
        "\n",
        "\n",
        "\n",
        "\n",
        "\n",
        "\n",
        "\n",
        "\n",
        "\n",
        "\n",
        "\n",
        "\n",
        "\n",
        "\n"
      ]
    },
    {
      "cell_type": "code",
      "execution_count": 54,
      "metadata": {
        "id": "ffrBYuBgzGmh"
      },
      "outputs": [],
      "source": [
        "# import os, pathlib, shutil, random\n",
        "# from tensorflow import keras\n",
        "# batch_size = 32\n",
        "# base_dir = pathlib.Path(\"aclImdb\")\n",
        "# val_dir = base_dir / \"val\"\n",
        "# train_dir = base_dir / \"train\"\n",
        "# for category in (\"neg\", \"pos\"):\n",
        "#     os.makedirs(val_dir / category)\n",
        "#     files = os.listdir(train_dir / category)\n",
        "#     random.Random(1337).shuffle(files)\n",
        "#     num_val_samples = int(0.2 * len(files))\n",
        "#     val_files = files[-num_val_samples:]\n",
        "#     for fname in val_files:\n",
        "#         shutil.move(train_dir / category / fname,\n",
        "#                     val_dir / category / fname)"
      ]
    },
    {
      "cell_type": "markdown",
      "metadata": {
        "id": "ZeGtpjsSzGmi"
      },
      "source": [
        "**Preparing integer sequence datasets**"
      ]
    },
    {
      "cell_type": "code",
      "execution_count": 55,
      "metadata": {
        "colab": {
          "base_uri": "https://localhost:8080/"
        },
        "id": "C0gv2-hXzGmi",
        "outputId": "2f8056f9-7c11-49f7-a1d0-68f78c8545a2"
      },
      "outputs": [
        {
          "output_type": "stream",
          "name": "stdout",
          "text": [
            "Found 20000 files belonging to 2 classes.\n",
            "Found 5000 files belonging to 2 classes.\n",
            "Found 25000 files belonging to 2 classes.\n"
          ]
        }
      ],
      "source": [
        "train_ds = keras.utils.text_dataset_from_directory(\n",
        "    \"aclImdb/train\", batch_size=batch_size\n",
        ")\n",
        "\n",
        "val_ds = keras.utils.text_dataset_from_directory(\n",
        "    \"aclImdb/val\", batch_size=batch_size\n",
        ")\n",
        "\n",
        "test_ds = keras.utils.text_dataset_from_directory(\n",
        "    \"aclImdb/test\", batch_size=batch_size\n",
        ")\n",
        "text_only_train_ds = train_ds.map(lambda x, y: x)\n",
        "from tensorflow.keras import layers\n",
        "\n",
        "max_length = 150 \n",
        "max_tokens = 10000\n",
        "text_vectorization = layers.TextVectorization(\n",
        "    max_tokens=max_tokens,\n",
        "    output_mode=\"int\",\n",
        "    output_sequence_length=max_length,\n",
        ")\n",
        "text_vectorization.adapt(text_only_train_ds)\n",
        "\n",
        "train_ds = train_ds.take(4000)\n",
        "int_train_ds = train_ds.map(\n",
        "    lambda x, y: (text_vectorization(x), y),\n",
        "    num_parallel_calls=4)\n",
        "val_ds = val_ds.take(10000)\n",
        "int_val_ds = val_ds.map(\n",
        "    lambda x, y: (text_vectorization(x), y),\n",
        "    num_parallel_calls=4)\n",
        "int_test_ds = test_ds.map(\n",
        "    lambda x, y: (text_vectorization(x), y),\n",
        "    num_parallel_calls=4)"
      ]
    },
    {
      "cell_type": "markdown",
      "metadata": {
        "id": "NW0_KDINzGmi"
      },
      "source": [
        "**A sequence model built on one-hot encoded vector sequences**"
      ]
    },
    {
      "cell_type": "code",
      "execution_count": 56,
      "metadata": {
        "colab": {
          "base_uri": "https://localhost:8080/"
        },
        "id": "f-iSMHSpzGmi",
        "outputId": "1974a5eb-a778-4df2-f41f-2ec9913c1389"
      },
      "outputs": [
        {
          "output_type": "stream",
          "name": "stdout",
          "text": [
            "Model: \"model_16\"\n",
            "_________________________________________________________________\n",
            " Layer (type)                Output Shape              Param #   \n",
            "=================================================================\n",
            " input_17 (InputLayer)       [(None, None)]            0         \n",
            "                                                                 \n",
            " tf.one_hot_4 (TFOpLambda)   (None, None, 10000)       0         \n",
            "                                                                 \n",
            " bidirectional_16 (Bidirecti  (None, 64)               2568448   \n",
            " onal)                                                           \n",
            "                                                                 \n",
            " dropout_16 (Dropout)        (None, 64)                0         \n",
            "                                                                 \n",
            " dense_16 (Dense)            (None, 1)                 65        \n",
            "                                                                 \n",
            "=================================================================\n",
            "Total params: 2,568,513\n",
            "Trainable params: 2,568,513\n",
            "Non-trainable params: 0\n",
            "_________________________________________________________________\n"
          ]
        }
      ],
      "source": [
        "import tensorflow as tf\n",
        "inputs = keras.Input(shape=(None,), dtype=\"int64\")\n",
        "embedded = tf.one_hot(inputs, depth=max_tokens)\n",
        "x = layers.Bidirectional(layers.LSTM(32))(embedded)\n",
        "x = layers.Dropout(0.5)(x)\n",
        "outputs = layers.Dense(1, activation=\"sigmoid\")(x)\n",
        "model = keras.Model(inputs, outputs)\n",
        "model.compile(optimizer=\"rmsprop\",\n",
        "              loss=\"binary_crossentropy\",\n",
        "              metrics=[\"accuracy\"])\n",
        "model.summary()"
      ]
    },
    {
      "cell_type": "markdown",
      "metadata": {
        "id": "Qxx38lKpzGmj"
      },
      "source": [
        "**Training a first basic sequence model**"
      ]
    },
    {
      "cell_type": "code",
      "execution_count": 57,
      "metadata": {
        "colab": {
          "base_uri": "https://localhost:8080/"
        },
        "id": "7OIXK-lWzGmj",
        "outputId": "86057c74-01a7-40ce-cd67-eb53cbd15af6"
      },
      "outputs": [
        {
          "output_type": "stream",
          "name": "stdout",
          "text": [
            "Epoch 1/10\n",
            "625/625 [==============================] - 33s 44ms/step - loss: 0.5417 - accuracy: 0.7193 - val_loss: 0.5681 - val_accuracy: 0.7802\n",
            "Epoch 2/10\n",
            "625/625 [==============================] - 28s 45ms/step - loss: 0.3687 - accuracy: 0.8520 - val_loss: 0.3598 - val_accuracy: 0.8458\n",
            "Epoch 3/10\n",
            "625/625 [==============================] - 28s 45ms/step - loss: 0.3100 - accuracy: 0.8856 - val_loss: 0.3707 - val_accuracy: 0.8486\n",
            "Epoch 4/10\n",
            "625/625 [==============================] - 26s 42ms/step - loss: 0.2721 - accuracy: 0.8979 - val_loss: 0.4418 - val_accuracy: 0.8258\n",
            "Epoch 5/10\n",
            "625/625 [==============================] - 28s 45ms/step - loss: 0.2448 - accuracy: 0.9107 - val_loss: 0.4025 - val_accuracy: 0.8416\n",
            "Epoch 6/10\n",
            "625/625 [==============================] - 26s 42ms/step - loss: 0.2143 - accuracy: 0.9219 - val_loss: 0.3809 - val_accuracy: 0.8464\n",
            "Epoch 7/10\n",
            "625/625 [==============================] - 28s 45ms/step - loss: 0.1854 - accuracy: 0.9346 - val_loss: 0.4324 - val_accuracy: 0.8232\n",
            "Epoch 8/10\n",
            "625/625 [==============================] - 29s 46ms/step - loss: 0.1523 - accuracy: 0.9464 - val_loss: 0.4793 - val_accuracy: 0.8414\n",
            "Epoch 9/10\n",
            "625/625 [==============================] - 28s 45ms/step - loss: 0.1245 - accuracy: 0.9586 - val_loss: 0.5351 - val_accuracy: 0.8362\n",
            "Epoch 10/10\n",
            "625/625 [==============================] - 27s 42ms/step - loss: 0.1020 - accuracy: 0.9681 - val_loss: 0.5618 - val_accuracy: 0.8354\n",
            "782/782 [==============================] - 17s 20ms/step - loss: 0.3701 - accuracy: 0.8418\n",
            "Test acc: 0.842\n"
          ]
        }
      ],
      "source": [
        "callbacks = [\n",
        "    keras.callbacks.ModelCheckpoint(\"one_hot_bidir_lstm.keras\",\n",
        "                                    save_best_only=True)\n",
        "]\n",
        "model.fit(int_train_ds, validation_data=int_val_ds, epochs=10, callbacks=callbacks)\n",
        "model = keras.models.load_model(\"one_hot_bidir_lstm.keras\")\n",
        "print(f\"Test acc: {model.evaluate(int_test_ds)[1]:.3f}\")"
      ]
    },
    {
      "cell_type": "markdown",
      "metadata": {
        "id": "JKW0yb6AzGmj"
      },
      "source": [
        "#### Understanding word embeddings"
      ]
    },
    {
      "cell_type": "markdown",
      "metadata": {
        "id": "3irO5M27zGmj"
      },
      "source": [
        "#### Learning word embeddings with the Embedding layer"
      ]
    },
    {
      "cell_type": "markdown",
      "metadata": {
        "id": "owQ7BSI-zGmj"
      },
      "source": [
        "**Instantiating an `Embedding` layer**"
      ]
    },
    {
      "cell_type": "code",
      "execution_count": 58,
      "metadata": {
        "id": "pD3uFbWIzGmk"
      },
      "outputs": [],
      "source": [
        "embedding_layer = layers.Embedding(input_dim=max_tokens, output_dim=256)"
      ]
    },
    {
      "cell_type": "markdown",
      "metadata": {
        "id": "QPJtdlrAzGmk"
      },
      "source": [
        "**Model that uses an `Embedding` layer trained from scratch**"
      ]
    },
    {
      "cell_type": "code",
      "execution_count": 59,
      "metadata": {
        "colab": {
          "base_uri": "https://localhost:8080/"
        },
        "id": "9p6u4IAOzGmk",
        "outputId": "988b8779-104e-41e4-c388-91b65b63046f"
      },
      "outputs": [
        {
          "output_type": "stream",
          "name": "stdout",
          "text": [
            "Model: \"model_17\"\n",
            "_________________________________________________________________\n",
            " Layer (type)                Output Shape              Param #   \n",
            "=================================================================\n",
            " input_18 (InputLayer)       [(None, None)]            0         \n",
            "                                                                 \n",
            " embedding_17 (Embedding)    (None, None, 256)         2560000   \n",
            "                                                                 \n",
            " bidirectional_17 (Bidirecti  (None, 64)               73984     \n",
            " onal)                                                           \n",
            "                                                                 \n",
            " dropout_17 (Dropout)        (None, 64)                0         \n",
            "                                                                 \n",
            " dense_17 (Dense)            (None, 1)                 65        \n",
            "                                                                 \n",
            "=================================================================\n",
            "Total params: 2,634,049\n",
            "Trainable params: 2,634,049\n",
            "Non-trainable params: 0\n",
            "_________________________________________________________________\n",
            "Epoch 1/10\n",
            "625/625 [==============================] - 39s 57ms/step - loss: 0.5230 - accuracy: 0.7380 - val_loss: 0.3842 - val_accuracy: 0.8336\n",
            "Epoch 2/10\n",
            "625/625 [==============================] - 15s 24ms/step - loss: 0.3531 - accuracy: 0.8571 - val_loss: 0.3700 - val_accuracy: 0.8474\n",
            "Epoch 3/10\n",
            "625/625 [==============================] - 13s 21ms/step - loss: 0.2960 - accuracy: 0.8856 - val_loss: 0.4721 - val_accuracy: 0.8094\n",
            "Epoch 4/10\n",
            "625/625 [==============================] - 13s 21ms/step - loss: 0.2536 - accuracy: 0.9040 - val_loss: 0.4110 - val_accuracy: 0.8474\n",
            "Epoch 5/10\n",
            "625/625 [==============================] - 12s 19ms/step - loss: 0.2165 - accuracy: 0.9202 - val_loss: 0.3993 - val_accuracy: 0.8392\n",
            "Epoch 6/10\n",
            "625/625 [==============================] - 12s 20ms/step - loss: 0.1825 - accuracy: 0.9331 - val_loss: 0.4533 - val_accuracy: 0.8456\n",
            "Epoch 7/10\n",
            "625/625 [==============================] - 12s 19ms/step - loss: 0.1495 - accuracy: 0.9463 - val_loss: 0.4619 - val_accuracy: 0.8300\n",
            "Epoch 8/10\n",
            "625/625 [==============================] - 12s 19ms/step - loss: 0.1205 - accuracy: 0.9597 - val_loss: 0.5742 - val_accuracy: 0.8426\n",
            "Epoch 9/10\n",
            "625/625 [==============================] - 12s 20ms/step - loss: 0.1028 - accuracy: 0.9640 - val_loss: 0.6601 - val_accuracy: 0.8044\n",
            "Epoch 10/10\n",
            "625/625 [==============================] - 12s 19ms/step - loss: 0.0808 - accuracy: 0.9729 - val_loss: 0.5876 - val_accuracy: 0.8322\n",
            "782/782 [==============================] - 7s 8ms/step - loss: 0.3874 - accuracy: 0.8367\n",
            "Test acc: 0.837\n"
          ]
        }
      ],
      "source": [
        "inputs = keras.Input(shape=(None,), dtype=\"int64\")\n",
        "embedded = layers.Embedding(input_dim=max_tokens, output_dim=256)(inputs)\n",
        "x = layers.Bidirectional(layers.LSTM(32))(embedded)\n",
        "x = layers.Dropout(0.5)(x)\n",
        "outputs = layers.Dense(1, activation=\"sigmoid\")(x)\n",
        "model = keras.Model(inputs, outputs)\n",
        "model.compile(optimizer=\"rmsprop\",\n",
        "              loss=\"binary_crossentropy\",\n",
        "              metrics=[\"accuracy\"])\n",
        "model.summary()\n",
        "\n",
        "callbacks = [\n",
        "    keras.callbacks.ModelCheckpoint(\"embeddings_bidir_gru.keras\",\n",
        "                                    save_best_only=True)\n",
        "]\n",
        "model.fit(int_train_ds, validation_data=int_val_ds, epochs=10, callbacks=callbacks)\n",
        "model = keras.models.load_model(\"embeddings_bidir_gru.keras\")\n",
        "print(f\"Test acc: {model.evaluate(int_test_ds)[1]:.3f}\")"
      ]
    },
    {
      "cell_type": "markdown",
      "metadata": {
        "id": "UgXEL3cMzGmk"
      },
      "source": [
        "#### Understanding padding and masking"
      ]
    },
    {
      "cell_type": "markdown",
      "metadata": {
        "id": "0bY8zog-zGmk"
      },
      "source": [
        "**Using an `Embedding` layer with masking enabled**"
      ]
    },
    {
      "cell_type": "code",
      "execution_count": 60,
      "metadata": {
        "colab": {
          "base_uri": "https://localhost:8080/"
        },
        "id": "RbdnbIVVzGmk",
        "outputId": "c162e0ed-ed39-406a-f1f6-9c99b66ef9c4"
      },
      "outputs": [
        {
          "output_type": "stream",
          "name": "stdout",
          "text": [
            "Model: \"model_18\"\n",
            "_________________________________________________________________\n",
            " Layer (type)                Output Shape              Param #   \n",
            "=================================================================\n",
            " input_19 (InputLayer)       [(None, None)]            0         \n",
            "                                                                 \n",
            " embedding_18 (Embedding)    (None, None, 256)         2560000   \n",
            "                                                                 \n",
            " bidirectional_18 (Bidirecti  (None, 64)               73984     \n",
            " onal)                                                           \n",
            "                                                                 \n",
            " dropout_18 (Dropout)        (None, 64)                0         \n",
            "                                                                 \n",
            " dense_18 (Dense)            (None, 1)                 65        \n",
            "                                                                 \n",
            "=================================================================\n",
            "Total params: 2,634,049\n",
            "Trainable params: 2,634,049\n",
            "Non-trainable params: 0\n",
            "_________________________________________________________________\n",
            "Epoch 1/10\n",
            "625/625 [==============================] - 52s 69ms/step - loss: 0.4902 - accuracy: 0.7512 - val_loss: 0.4793 - val_accuracy: 0.7994\n",
            "Epoch 2/10\n",
            "625/625 [==============================] - 19s 30ms/step - loss: 0.3269 - accuracy: 0.8683 - val_loss: 0.3505 - val_accuracy: 0.8452\n",
            "Epoch 3/10\n",
            "625/625 [==============================] - 20s 32ms/step - loss: 0.2665 - accuracy: 0.8961 - val_loss: 0.3639 - val_accuracy: 0.8410\n",
            "Epoch 4/10\n",
            "624/625 [============================>.] - ETA: 0s - loss: 0.2221 - accuracy: 0.9156Epoch 5/10\n",
            "625/625 [==============================] - 17s 27ms/step - loss: 0.1829 - accuracy: 0.9319 - val_loss: 0.4123 - val_accuracy: 0.8382\n",
            "Epoch 6/10\n",
            "625/625 [==============================] - 18s 28ms/step - loss: 0.1523 - accuracy: 0.9459 - val_loss: 0.4532 - val_accuracy: 0.8354\n",
            "Epoch 7/10\n",
            "625/625 [==============================] - 16s 26ms/step - loss: 0.1196 - accuracy: 0.9578 - val_loss: 0.5406 - val_accuracy: 0.8168\n",
            "Epoch 8/10\n",
            "625/625 [==============================] - 17s 28ms/step - loss: 0.0953 - accuracy: 0.9669 - val_loss: 0.6171 - val_accuracy: 0.8284\n",
            "Epoch 9/10\n",
            "625/625 [==============================] - 17s 28ms/step - loss: 0.0739 - accuracy: 0.9744 - val_loss: 0.6645 - val_accuracy: 0.8276\n",
            "Epoch 10/10\n",
            "625/625 [==============================] - 16s 26ms/step - loss: 0.0594 - accuracy: 0.9798 - val_loss: 0.6897 - val_accuracy: 0.8360\n",
            "782/782 [==============================] - 11s 11ms/step - loss: 0.3624 - accuracy: 0.8391\n",
            "Test acc: 0.839\n"
          ]
        }
      ],
      "source": [
        "inputs = keras.Input(shape=(None,), dtype=\"int64\")\n",
        "embedded = layers.Embedding(\n",
        "    input_dim=max_tokens, output_dim=256, mask_zero=True)(inputs)\n",
        "x = layers.Bidirectional(layers.LSTM(32))(embedded)\n",
        "x = layers.Dropout(0.5)(x)\n",
        "outputs = layers.Dense(1, activation=\"sigmoid\")(x)\n",
        "model = keras.Model(inputs, outputs)\n",
        "model.compile(optimizer=\"rmsprop\",\n",
        "              loss=\"binary_crossentropy\",\n",
        "              metrics=[\"accuracy\"])\n",
        "model.summary()\n",
        "\n",
        "callbacks = [\n",
        "    keras.callbacks.ModelCheckpoint(\"embeddings_bidir_gru_with_masking.keras\",\n",
        "                                    save_best_only=True)\n",
        "]\n",
        "model.fit(int_train_ds, validation_data=int_val_ds, epochs=10, callbacks=callbacks)\n",
        "model = keras.models.load_model(\"embeddings_bidir_gru_with_masking.keras\")\n",
        "print(f\"Test acc: {model.evaluate(int_test_ds)[1]:.3f}\")"
      ]
    },
    {
      "cell_type": "markdown",
      "metadata": {
        "id": "R-6H4f9mzGmk"
      },
      "source": [
        "#### Using pretrained word embeddings"
      ]
    },
    {
      "cell_type": "code",
      "execution_count": 61,
      "metadata": {
        "id": "hBk_S_fOzGml"
      },
      "outputs": [],
      "source": [
        "# !wget http://nlp.stanford.edu/data/glove.6B.zip\n",
        "# !unzip -q glove.6B.zip"
      ]
    },
    {
      "cell_type": "markdown",
      "metadata": {
        "id": "iiWORA7xzGml"
      },
      "source": [
        "**Parsing the GloVe word-embeddings file**"
      ]
    },
    {
      "cell_type": "code",
      "execution_count": 62,
      "metadata": {
        "colab": {
          "base_uri": "https://localhost:8080/"
        },
        "id": "1YcJ2fRNzGml",
        "outputId": "777493cc-541d-4736-ec8e-a5c21ce63872"
      },
      "outputs": [
        {
          "output_type": "stream",
          "name": "stdout",
          "text": [
            "Found 400000 word vectors.\n"
          ]
        }
      ],
      "source": [
        "import numpy as np\n",
        "path_to_glove_file = \"glove.6B.100d.txt\"\n",
        "\n",
        "embeddings_index = {}\n",
        "with open(path_to_glove_file) as f:\n",
        "    for line in f:\n",
        "        word, coefs = line.split(maxsplit=1)\n",
        "        coefs = np.fromstring(coefs, \"f\", sep=\" \")\n",
        "        embeddings_index[word] = coefs\n",
        "\n",
        "print(f\"Found {len(embeddings_index)} word vectors.\")"
      ]
    },
    {
      "cell_type": "markdown",
      "metadata": {
        "id": "ImAboinezGml"
      },
      "source": [
        "**Preparing the GloVe word-embeddings matrix**"
      ]
    },
    {
      "cell_type": "code",
      "execution_count": 63,
      "metadata": {
        "id": "OFNdbkIozGmm"
      },
      "outputs": [],
      "source": [
        "embedding_dim = 100\n",
        "\n",
        "vocabulary = text_vectorization.get_vocabulary()\n",
        "word_index = dict(zip(vocabulary, range(len(vocabulary))))\n",
        "\n",
        "embedding_matrix = np.zeros((max_tokens, embedding_dim))\n",
        "for word, i in word_index.items():\n",
        "    if i < max_tokens:\n",
        "        embedding_vector = embeddings_index.get(word)\n",
        "    if embedding_vector is not None:\n",
        "        embedding_matrix[i] = embedding_vector"
      ]
    },
    {
      "cell_type": "code",
      "execution_count": 64,
      "metadata": {
        "id": "GIVFqwHhzGmm"
      },
      "outputs": [],
      "source": [
        "embedding_layer = layers.Embedding(\n",
        "    max_tokens,\n",
        "    embedding_dim,\n",
        "    embeddings_initializer=keras.initializers.Constant(embedding_matrix),\n",
        "    trainable=False,\n",
        "    mask_zero=True,\n",
        ")"
      ]
    },
    {
      "cell_type": "markdown",
      "metadata": {
        "id": "MulNB9RFzGmm"
      },
      "source": [
        "**Model that uses a pretrained Embedding layer**"
      ]
    },
    {
      "cell_type": "code",
      "execution_count": 65,
      "metadata": {
        "id": "i5JzwvyuzGmm",
        "colab": {
          "base_uri": "https://localhost:8080/"
        },
        "outputId": "19a25e16-826e-4b68-fe1d-c2cb93bb2365"
      },
      "outputs": [
        {
          "output_type": "stream",
          "name": "stdout",
          "text": [
            "Model: \"model_19\"\n",
            "_________________________________________________________________\n",
            " Layer (type)                Output Shape              Param #   \n",
            "=================================================================\n",
            " input_20 (InputLayer)       [(None, None)]            0         \n",
            "                                                                 \n",
            " embedding_19 (Embedding)    (None, None, 100)         1000000   \n",
            "                                                                 \n",
            " bidirectional_19 (Bidirecti  (None, 64)               34048     \n",
            " onal)                                                           \n",
            "                                                                 \n",
            " dropout_19 (Dropout)        (None, 64)                0         \n",
            "                                                                 \n",
            " dense_19 (Dense)            (None, 1)                 65        \n",
            "                                                                 \n",
            "=================================================================\n",
            "Total params: 1,034,113\n",
            "Trainable params: 34,113\n",
            "Non-trainable params: 1,000,000\n",
            "_________________________________________________________________\n",
            "Epoch 1/10\n",
            "625/625 [==============================] - 29s 32ms/step - loss: 0.5956 - accuracy: 0.6753 - val_loss: 0.5081 - val_accuracy: 0.7564\n",
            "Epoch 2/10\n",
            "625/625 [==============================] - 16s 26ms/step - loss: 0.4836 - accuracy: 0.7699 - val_loss: 0.5199 - val_accuracy: 0.7468\n",
            "Epoch 3/10\n",
            "625/625 [==============================] - 16s 26ms/step - loss: 0.4440 - accuracy: 0.7950 - val_loss: 0.4806 - val_accuracy: 0.7830\n",
            "Epoch 4/10\n",
            "625/625 [==============================] - 16s 26ms/step - loss: 0.4155 - accuracy: 0.8116 - val_loss: 0.4138 - val_accuracy: 0.8120\n",
            "Epoch 5/10\n",
            "625/625 [==============================] - 16s 26ms/step - loss: 0.3936 - accuracy: 0.8248 - val_loss: 0.5156 - val_accuracy: 0.7844\n",
            "Epoch 6/10\n",
            "625/625 [==============================] - 16s 25ms/step - loss: 0.3740 - accuracy: 0.8336 - val_loss: 0.4188 - val_accuracy: 0.8100\n",
            "Epoch 7/10\n",
            "625/625 [==============================] - 17s 27ms/step - loss: 0.3581 - accuracy: 0.8457 - val_loss: 0.3921 - val_accuracy: 0.8294\n",
            "Epoch 8/10\n",
            "625/625 [==============================] - 17s 27ms/step - loss: 0.3451 - accuracy: 0.8487 - val_loss: 0.4370 - val_accuracy: 0.8140\n",
            "Epoch 9/10\n",
            "625/625 [==============================] - 16s 25ms/step - loss: 0.3289 - accuracy: 0.8572 - val_loss: 0.4132 - val_accuracy: 0.8306\n",
            "Epoch 10/10\n",
            "625/625 [==============================] - 16s 26ms/step - loss: 0.3173 - accuracy: 0.8652 - val_loss: 0.3850 - val_accuracy: 0.8382\n",
            "782/782 [==============================] - 11s 11ms/step - loss: 0.3791 - accuracy: 0.8360\n",
            "Test acc: 0.836\n"
          ]
        }
      ],
      "source": [
        "inputs = keras.Input(shape=(None,), dtype=\"int64\")\n",
        "embedded = embedding_layer(inputs)\n",
        "x = layers.Bidirectional(layers.LSTM(32))(embedded)\n",
        "x = layers.Dropout(0.5)(x)\n",
        "outputs = layers.Dense(1, activation=\"sigmoid\")(x)\n",
        "model = keras.Model(inputs, outputs)\n",
        "model.compile(optimizer=\"rmsprop\",\n",
        "              loss=\"binary_crossentropy\",\n",
        "              metrics=[\"accuracy\"])\n",
        "model.summary()\n",
        "\n",
        "callbacks = [\n",
        "    keras.callbacks.ModelCheckpoint(\"glove_embeddings_sequence_model.keras\",\n",
        "                                    save_best_only=True)\n",
        "]\n",
        "model.fit(int_train_ds, validation_data=int_val_ds, epochs=10, callbacks=callbacks)\n",
        "model = keras.models.load_model(\"glove_embeddings_sequence_model.keras\")\n",
        "print(f\"Test acc: {model.evaluate(int_test_ds)[1]:.3f}\")"
      ]
    },
    {
      "cell_type": "code",
      "execution_count": 65,
      "metadata": {
        "id": "X1wvzq7qC667"
      },
      "outputs": [],
      "source": []
    }
  ],
  "metadata": {
    "accelerator": "GPU",
    "colab": {
      "provenance": []
    },
    "gpuClass": "standard",
    "kernelspec": {
      "display_name": "Python 3",
      "language": "python",
      "name": "python3"
    },
    "language_info": {
      "codemirror_mode": {
        "name": "ipython",
        "version": 3
      },
      "file_extension": ".py",
      "mimetype": "text/x-python",
      "name": "python",
      "nbconvert_exporter": "python",
      "pygments_lexer": "ipython3",
      "version": "3.7.0"
    }
  },
  "nbformat": 4,
  "nbformat_minor": 0
}